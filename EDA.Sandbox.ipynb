{
 "cells": [
  {
   "cell_type": "markdown",
   "metadata": {},
   "source": [
    "## Imports"
   ]
  },
  {
   "cell_type": "code",
   "execution_count": 30,
   "metadata": {},
   "outputs": [],
   "source": [
    "import numpy as np\n",
    "import pandas as pd\n",
    "import wget\n",
    "import os\n",
    "import zipfile"
   ]
  },
  {
   "cell_type": "code",
   "execution_count": 40,
   "metadata": {},
   "outputs": [],
   "source": [
    "## Download and Unzip Data"
   ]
  },
  {
   "cell_type": "code",
   "execution_count": 19,
   "metadata": {},
   "outputs": [],
   "source": [
    "start, end = 2007, 2018\n",
    "years = [i for i in range(start, end+1)]\n",
    "url_format = \"http://peter-tanner.com/moneypuck/downloads/shots_{year}.zip\"\n",
    "urls = [url_format.format(year=yr) for yr in years]"
   ]
  },
  {
   "cell_type": "code",
   "execution_count": 29,
   "metadata": {},
   "outputs": [
    {
     "name": "stdout",
     "output_type": "stream",
     "text": [
      "CPU times: user 1.85 s, sys: 750 ms, total: 2.6 s\n",
      "Wall time: 25 s\n"
     ]
    },
    {
     "data": {
      "text/plain": [
       "['/Users/jai.ghose/NHL-MoneyPuck-Prediction/shots_2007.zip',\n",
       " '/Users/jai.ghose/NHL-MoneyPuck-Prediction/shots_2008.zip',\n",
       " '/Users/jai.ghose/NHL-MoneyPuck-Prediction/shots_2009.zip',\n",
       " '/Users/jai.ghose/NHL-MoneyPuck-Prediction/shots_2010.zip',\n",
       " '/Users/jai.ghose/NHL-MoneyPuck-Prediction/shots_2011.zip',\n",
       " '/Users/jai.ghose/NHL-MoneyPuck-Prediction/shots_2012.zip',\n",
       " '/Users/jai.ghose/NHL-MoneyPuck-Prediction/shots_2013.zip',\n",
       " '/Users/jai.ghose/NHL-MoneyPuck-Prediction/shots_2014.zip',\n",
       " '/Users/jai.ghose/NHL-MoneyPuck-Prediction/shots_2015.zip',\n",
       " '/Users/jai.ghose/NHL-MoneyPuck-Prediction/shots_2016.zip',\n",
       " '/Users/jai.ghose/NHL-MoneyPuck-Prediction/shots_2017.zip',\n",
       " '/Users/jai.ghose/NHL-MoneyPuck-Prediction/shots_2018.zip']"
      ]
     },
     "execution_count": 29,
     "metadata": {},
     "output_type": "execute_result"
    }
   ],
   "source": [
    "%time list(map(lambda x: wget.download(x, os.getcwd()), urls))"
   ]
  },
  {
   "cell_type": "code",
   "execution_count": 34,
   "metadata": {},
   "outputs": [],
   "source": [
    "def unzipper(filePath, dest=None):\n",
    "    zip_ref = zipfile.ZipFile(filePath, 'r')\n",
    "    dest_path = dest if dest is not None else os.getcwd()\n",
    "    zip_ref.extractall(dest_path)\n",
    "    zip_ref.close()"
   ]
  },
  {
   "cell_type": "code",
   "execution_count": 38,
   "metadata": {},
   "outputs": [],
   "source": [
    "fPaths = [os.path.join(os.getcwd(), \"shots_{}.zip\".format(yr)) for yr in years]"
   ]
  },
  {
   "cell_type": "code",
   "execution_count": 39,
   "metadata": {},
   "outputs": [
    {
     "name": "stdout",
     "output_type": "stream",
     "text": [
      "CPU times: user 3.88 s, sys: 380 ms, total: 4.26 s\n",
      "Wall time: 4.37 s\n"
     ]
    },
    {
     "data": {
      "text/plain": [
       "[None, None, None, None, None, None, None, None, None, None, None, None]"
      ]
     },
     "execution_count": 39,
     "metadata": {},
     "output_type": "execute_result"
    }
   ],
   "source": [
    "%time list(map(unzipper, fPaths))"
   ]
  },
  {
   "cell_type": "markdown",
   "metadata": {},
   "source": [
    "## Load Data"
   ]
  },
  {
   "cell_type": "code",
   "execution_count": 48,
   "metadata": {},
   "outputs": [],
   "source": [
    "data = pd.read_csv(\"shots_2018.csv\", index_col=0)"
   ]
  },
  {
   "cell_type": "code",
   "execution_count": 49,
   "metadata": {
    "scrolled": true
   },
   "outputs": [
    {
     "data": {
      "text/html": [
       "<div>\n",
       "<style scoped>\n",
       "    .dataframe tbody tr th:only-of-type {\n",
       "        vertical-align: middle;\n",
       "    }\n",
       "\n",
       "    .dataframe tbody tr th {\n",
       "        vertical-align: top;\n",
       "    }\n",
       "\n",
       "    .dataframe thead th {\n",
       "        text-align: right;\n",
       "    }\n",
       "</style>\n",
       "<table border=\"1\" class=\"dataframe\">\n",
       "  <thead>\n",
       "    <tr style=\"text-align: right;\">\n",
       "      <th></th>\n",
       "      <th>arenaAdjustedShotDistance</th>\n",
       "      <th>arenaAdjustedXCord</th>\n",
       "      <th>arenaAdjustedXCordABS</th>\n",
       "      <th>arenaAdjustedYCord</th>\n",
       "      <th>arenaAdjustedYCordAbs</th>\n",
       "      <th>averageRestDifference</th>\n",
       "      <th>awayEmptyNet</th>\n",
       "      <th>awayPenalty1Length</th>\n",
       "      <th>awayPenalty1TimeLeft</th>\n",
       "      <th>awaySkatersOnIce</th>\n",
       "      <th>...</th>\n",
       "      <th>xCordAdjusted</th>\n",
       "      <th>xFroze</th>\n",
       "      <th>xGoal</th>\n",
       "      <th>xPlayContinuedInZone</th>\n",
       "      <th>xPlayContinuedOutsideZone</th>\n",
       "      <th>xPlayStopped</th>\n",
       "      <th>xRebound</th>\n",
       "      <th>xShotWasOnGoal</th>\n",
       "      <th>yCord</th>\n",
       "      <th>yCordAdjusted</th>\n",
       "    </tr>\n",
       "  </thead>\n",
       "  <tbody>\n",
       "    <tr>\n",
       "      <th>count</th>\n",
       "      <td>70754.000000</td>\n",
       "      <td>70754.000000</td>\n",
       "      <td>70754.000000</td>\n",
       "      <td>70754.000000</td>\n",
       "      <td>70754.000000</td>\n",
       "      <td>70754.000000</td>\n",
       "      <td>70754.000000</td>\n",
       "      <td>70754.000000</td>\n",
       "      <td>70754.000000</td>\n",
       "      <td>70754.000000</td>\n",
       "      <td>...</td>\n",
       "      <td>70754.000000</td>\n",
       "      <td>70754.000000</td>\n",
       "      <td>70754.000000</td>\n",
       "      <td>70754.000000</td>\n",
       "      <td>70754.000000</td>\n",
       "      <td>70754.000000</td>\n",
       "      <td>70754.000000</td>\n",
       "      <td>70754.000000</td>\n",
       "      <td>70754.000000</td>\n",
       "      <td>70754.000000</td>\n",
       "    </tr>\n",
       "    <tr>\n",
       "      <th>mean</th>\n",
       "      <td>35.817710</td>\n",
       "      <td>0.230814</td>\n",
       "      <td>58.908768</td>\n",
       "      <td>-0.208469</td>\n",
       "      <td>15.859118</td>\n",
       "      <td>-1.992824</td>\n",
       "      <td>0.014091</td>\n",
       "      <td>13.560505</td>\n",
       "      <td>6.333819</td>\n",
       "      <td>4.890084</td>\n",
       "      <td>...</td>\n",
       "      <td>59.739011</td>\n",
       "      <td>0.160741</td>\n",
       "      <td>0.066269</td>\n",
       "      <td>0.393554</td>\n",
       "      <td>0.302334</td>\n",
       "      <td>0.023097</td>\n",
       "      <td>0.048431</td>\n",
       "      <td>0.707702</td>\n",
       "      <td>-0.202872</td>\n",
       "      <td>-0.048223</td>\n",
       "    </tr>\n",
       "    <tr>\n",
       "      <th>std</th>\n",
       "      <td>19.170421</td>\n",
       "      <td>61.921737</td>\n",
       "      <td>19.080429</td>\n",
       "      <td>19.464177</td>\n",
       "      <td>11.286385</td>\n",
       "      <td>12.755147</td>\n",
       "      <td>0.117867</td>\n",
       "      <td>41.309812</td>\n",
       "      <td>22.723453</td>\n",
       "      <td>0.389794</td>\n",
       "      <td>...</td>\n",
       "      <td>18.949264</td>\n",
       "      <td>0.062249</td>\n",
       "      <td>0.094252</td>\n",
       "      <td>0.101082</td>\n",
       "      <td>0.119791</td>\n",
       "      <td>0.009574</td>\n",
       "      <td>0.023081</td>\n",
       "      <td>0.130724</td>\n",
       "      <td>18.906039</td>\n",
       "      <td>18.907066</td>\n",
       "    </tr>\n",
       "    <tr>\n",
       "      <th>min</th>\n",
       "      <td>1.000000</td>\n",
       "      <td>-97.000000</td>\n",
       "      <td>0.000000</td>\n",
       "      <td>-51.000000</td>\n",
       "      <td>0.000000</td>\n",
       "      <td>-139.400000</td>\n",
       "      <td>0.000000</td>\n",
       "      <td>0.000000</td>\n",
       "      <td>0.000000</td>\n",
       "      <td>3.000000</td>\n",
       "      <td>...</td>\n",
       "      <td>0.000000</td>\n",
       "      <td>0.000000</td>\n",
       "      <td>0.001000</td>\n",
       "      <td>0.000000</td>\n",
       "      <td>0.000000</td>\n",
       "      <td>0.000000</td>\n",
       "      <td>0.000000</td>\n",
       "      <td>0.000000</td>\n",
       "      <td>-42.000000</td>\n",
       "      <td>-42.000000</td>\n",
       "    </tr>\n",
       "    <tr>\n",
       "      <th>25%</th>\n",
       "      <td>19.000000</td>\n",
       "      <td>-61.000000</td>\n",
       "      <td>44.000000</td>\n",
       "      <td>-15.000000</td>\n",
       "      <td>6.000000</td>\n",
       "      <td>-5.600000</td>\n",
       "      <td>0.000000</td>\n",
       "      <td>0.000000</td>\n",
       "      <td>0.000000</td>\n",
       "      <td>5.000000</td>\n",
       "      <td>...</td>\n",
       "      <td>45.000000</td>\n",
       "      <td>0.121912</td>\n",
       "      <td>0.014314</td>\n",
       "      <td>0.361146</td>\n",
       "      <td>0.255028</td>\n",
       "      <td>0.019329</td>\n",
       "      <td>0.035289</td>\n",
       "      <td>0.659357</td>\n",
       "      <td>-14.000000</td>\n",
       "      <td>-14.000000</td>\n",
       "    </tr>\n",
       "    <tr>\n",
       "      <th>50%</th>\n",
       "      <td>35.000000</td>\n",
       "      <td>0.000000</td>\n",
       "      <td>61.000000</td>\n",
       "      <td>-0.000000</td>\n",
       "      <td>15.000000</td>\n",
       "      <td>0.000000</td>\n",
       "      <td>0.000000</td>\n",
       "      <td>0.000000</td>\n",
       "      <td>0.000000</td>\n",
       "      <td>5.000000</td>\n",
       "      <td>...</td>\n",
       "      <td>63.000000</td>\n",
       "      <td>0.154591</td>\n",
       "      <td>0.034659</td>\n",
       "      <td>0.414955</td>\n",
       "      <td>0.295628</td>\n",
       "      <td>0.021590</td>\n",
       "      <td>0.043101</td>\n",
       "      <td>0.717448</td>\n",
       "      <td>0.000000</td>\n",
       "      <td>0.000000</td>\n",
       "    </tr>\n",
       "    <tr>\n",
       "      <th>75%</th>\n",
       "      <td>50.000000</td>\n",
       "      <td>61.000000</td>\n",
       "      <td>75.000000</td>\n",
       "      <td>14.000000</td>\n",
       "      <td>25.000000</td>\n",
       "      <td>0.000000</td>\n",
       "      <td>0.000000</td>\n",
       "      <td>0.000000</td>\n",
       "      <td>0.000000</td>\n",
       "      <td>5.000000</td>\n",
       "      <td>...</td>\n",
       "      <td>76.000000</td>\n",
       "      <td>0.193398</td>\n",
       "      <td>0.080957</td>\n",
       "      <td>0.453054</td>\n",
       "      <td>0.324000</td>\n",
       "      <td>0.024844</td>\n",
       "      <td>0.057464</td>\n",
       "      <td>0.773692</td>\n",
       "      <td>14.000000</td>\n",
       "      <td>14.000000</td>\n",
       "    </tr>\n",
       "    <tr>\n",
       "      <th>max</th>\n",
       "      <td>98.000000</td>\n",
       "      <td>99.000000</td>\n",
       "      <td>99.000000</td>\n",
       "      <td>49.000000</td>\n",
       "      <td>51.000000</td>\n",
       "      <td>104.800000</td>\n",
       "      <td>1.000000</td>\n",
       "      <td>600.000000</td>\n",
       "      <td>568.000000</td>\n",
       "      <td>6.000000</td>\n",
       "      <td>...</td>\n",
       "      <td>99.000000</td>\n",
       "      <td>0.725385</td>\n",
       "      <td>0.987757</td>\n",
       "      <td>0.685085</td>\n",
       "      <td>0.959000</td>\n",
       "      <td>0.409448</td>\n",
       "      <td>0.239279</td>\n",
       "      <td>0.992156</td>\n",
       "      <td>42.000000</td>\n",
       "      <td>42.000000</td>\n",
       "    </tr>\n",
       "  </tbody>\n",
       "</table>\n",
       "<p>8 rows × 110 columns</p>\n",
       "</div>"
      ],
      "text/plain": [
       "       arenaAdjustedShotDistance  arenaAdjustedXCord  arenaAdjustedXCordABS  \\\n",
       "count               70754.000000        70754.000000           70754.000000   \n",
       "mean                   35.817710            0.230814              58.908768   \n",
       "std                    19.170421           61.921737              19.080429   \n",
       "min                     1.000000          -97.000000               0.000000   \n",
       "25%                    19.000000          -61.000000              44.000000   \n",
       "50%                    35.000000            0.000000              61.000000   \n",
       "75%                    50.000000           61.000000              75.000000   \n",
       "max                    98.000000           99.000000              99.000000   \n",
       "\n",
       "       arenaAdjustedYCord  arenaAdjustedYCordAbs  averageRestDifference  \\\n",
       "count        70754.000000           70754.000000           70754.000000   \n",
       "mean            -0.208469              15.859118              -1.992824   \n",
       "std             19.464177              11.286385              12.755147   \n",
       "min            -51.000000               0.000000            -139.400000   \n",
       "25%            -15.000000               6.000000              -5.600000   \n",
       "50%             -0.000000              15.000000               0.000000   \n",
       "75%             14.000000              25.000000               0.000000   \n",
       "max             49.000000              51.000000             104.800000   \n",
       "\n",
       "       awayEmptyNet  awayPenalty1Length  awayPenalty1TimeLeft  \\\n",
       "count  70754.000000        70754.000000          70754.000000   \n",
       "mean       0.014091           13.560505              6.333819   \n",
       "std        0.117867           41.309812             22.723453   \n",
       "min        0.000000            0.000000              0.000000   \n",
       "25%        0.000000            0.000000              0.000000   \n",
       "50%        0.000000            0.000000              0.000000   \n",
       "75%        0.000000            0.000000              0.000000   \n",
       "max        1.000000          600.000000            568.000000   \n",
       "\n",
       "       awaySkatersOnIce      ...        xCordAdjusted        xFroze  \\\n",
       "count      70754.000000      ...         70754.000000  70754.000000   \n",
       "mean           4.890084      ...            59.739011      0.160741   \n",
       "std            0.389794      ...            18.949264      0.062249   \n",
       "min            3.000000      ...             0.000000      0.000000   \n",
       "25%            5.000000      ...            45.000000      0.121912   \n",
       "50%            5.000000      ...            63.000000      0.154591   \n",
       "75%            5.000000      ...            76.000000      0.193398   \n",
       "max            6.000000      ...            99.000000      0.725385   \n",
       "\n",
       "              xGoal  xPlayContinuedInZone  xPlayContinuedOutsideZone  \\\n",
       "count  70754.000000          70754.000000               70754.000000   \n",
       "mean       0.066269              0.393554                   0.302334   \n",
       "std        0.094252              0.101082                   0.119791   \n",
       "min        0.001000              0.000000                   0.000000   \n",
       "25%        0.014314              0.361146                   0.255028   \n",
       "50%        0.034659              0.414955                   0.295628   \n",
       "75%        0.080957              0.453054                   0.324000   \n",
       "max        0.987757              0.685085                   0.959000   \n",
       "\n",
       "       xPlayStopped      xRebound  xShotWasOnGoal         yCord  yCordAdjusted  \n",
       "count  70754.000000  70754.000000    70754.000000  70754.000000   70754.000000  \n",
       "mean       0.023097      0.048431        0.707702     -0.202872      -0.048223  \n",
       "std        0.009574      0.023081        0.130724     18.906039      18.907066  \n",
       "min        0.000000      0.000000        0.000000    -42.000000     -42.000000  \n",
       "25%        0.019329      0.035289        0.659357    -14.000000     -14.000000  \n",
       "50%        0.021590      0.043101        0.717448      0.000000       0.000000  \n",
       "75%        0.024844      0.057464        0.773692     14.000000      14.000000  \n",
       "max        0.409448      0.239279        0.992156     42.000000      42.000000  \n",
       "\n",
       "[8 rows x 110 columns]"
      ]
     },
     "execution_count": 49,
     "metadata": {},
     "output_type": "execute_result"
    }
   ],
   "source": [
    "data.describe()"
   ]
  },
  {
   "cell_type": "code",
   "execution_count": null,
   "metadata": {},
   "outputs": [],
   "source": [
    "## http://pandas.pydata.org/pandas-docs/stable/development/extending.html#extending-subclassing-pandas"
   ]
  },
  {
   "cell_type": "code",
   "execution_count": 59,
   "metadata": {},
   "outputs": [],
   "source": [
    "tmp_properties = [\"tmp_col\"] # can use these to hold intermediary things for processing, w/e\n",
    "properties = [\"team_name\", \"players\", \"data_range\"] ## TODO: add more attributes of a team"
   ]
  },
  {
   "cell_type": "code",
   "execution_count": 60,
   "metadata": {},
   "outputs": [],
   "source": [
    "class Team(pd.DataFrame):\n",
    "\n",
    "    # temporary properties\n",
    "    _internal_names = pd.DataFrame._internal_names + tmp_vars\n",
    "    _internal_names_set = set(_internal_names)\n",
    "\n",
    "    # normal properties\n",
    "    _metadata = properties\n",
    "\n",
    "    @property\n",
    "    def _constructor(self):\n",
    "        return Team"
   ]
  },
  {
   "cell_type": "code",
   "execution_count": 61,
   "metadata": {},
   "outputs": [],
   "source": [
    "tmp = Team(data)"
   ]
  },
  {
   "cell_type": "code",
   "execution_count": 62,
   "metadata": {},
   "outputs": [],
   "source": [
    "tmp.players = set([\"Ovi\", \"Crosby\"])"
   ]
  },
  {
   "cell_type": "code",
   "execution_count": 63,
   "metadata": {},
   "outputs": [
    {
     "data": {
      "text/plain": [
       "{'Crosby', 'Ovi'}"
      ]
     },
     "execution_count": 63,
     "metadata": {},
     "output_type": "execute_result"
    }
   ],
   "source": [
    "tmp.players"
   ]
  },
  {
   "cell_type": "markdown",
   "metadata": {},
   "source": [
    "## Matrix Factorization Idea"
   ]
  },
  {
   "cell_type": "markdown",
   "metadata": {},
   "source": [
    "Let $G_{H,A,(t, t+\\Delta)}$ be the data matrix for two Teams, $H$ and $A$, from times $t$ to $t+\\Delta$ at a point $t+\\Delta$. We wish to learn a transformation $P$, such that:\n",
    "$$G_{H, A, (t_0, t)}P = G_{h, a,(t, t+1)}$$\n",
    "Basically, we wish to learn the data matrix for the following game for two other opponents. We need to structure $G$ such that it has fixed dimension and $G_{H, A, (t_0, t)} = G_{A, H, (t_0, t)}$ so $P$ can have fixed dimension. We need to experiment for how to construct such data matrices from the granular shot data. Once we figure out how to aggregate and subset the data, we can figure out what entries in the input or output to substitute, which to leave empty (like say goals) and use the models in practice."
   ]
  },
  {
   "cell_type": "code",
   "execution_count": null,
   "metadata": {},
   "outputs": [],
   "source": [
    "## http://blog.echen.me/2011/10/24/winning-the-netflix-prize-a-summary/"
   ]
  },
  {
   "cell_type": "markdown",
   "metadata": {},
   "source": [
    "## Desicion Tree"
   ]
  },
  {
   "cell_type": "code",
   "execution_count": null,
   "metadata": {},
   "outputs": [],
   "source": [
    "## https://towardsdatascience.com/interactive-visualization-of-decision-trees-with-jupyter-widgets-ca15dd312084"
   ]
  },
  {
   "cell_type": "markdown",
   "metadata": {},
   "source": [
    "## Simulation Based on PGM"
   ]
  },
  {
   "cell_type": "markdown",
   "metadata": {},
   "source": [
    "We create some PGM based on our observation of the data and randomly sample shots in some form to make up some game.\n",
    "\n",
    "sample shots in a game -> sample shot characteristics with probability according to some rules -> sum example goals\n",
    "\n",
    "e.g. shots against defense A vs defense B"
   ]
  },
  {
   "cell_type": "code",
   "execution_count": null,
   "metadata": {},
   "outputs": [],
   "source": [
    "## https://en.wikipedia.org/wiki/Graphical_model"
   ]
  }
 ],
 "metadata": {
  "kernelspec": {
   "display_name": "Python 3",
   "language": "python",
   "name": "python3"
  },
  "language_info": {
   "codemirror_mode": {
    "name": "ipython",
    "version": 3
   },
   "file_extension": ".py",
   "mimetype": "text/x-python",
   "name": "python",
   "nbconvert_exporter": "python",
   "pygments_lexer": "ipython3",
   "version": "3.7.0"
  }
 },
 "nbformat": 4,
 "nbformat_minor": 2
}
